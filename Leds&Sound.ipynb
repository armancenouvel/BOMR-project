{
 "cells": [
  {
   "cell_type": "code",
   "execution_count": 33,
   "id": "8cf2c1e1",
   "metadata": {},
   "outputs": [],
   "source": [
    "import matplotlib.pyplot as plt\n",
    "import numpy as np\n",
    "from threading import Timer\n",
    "from tqdm import tqdm\n",
    "from tdmclient import ClientAsync, aw"
   ]
  },
  {
   "cell_type": "code",
   "execution_count": 43,
   "id": "ec83ae8d",
   "metadata": {},
   "outputs": [],
   "source": [
    "# client = ClientAsync()\n",
    "# node = await client.wait_for_node()\n",
    "# await node.lock()\n",
    "\n",
    "# Import tdmclient Notebook environment:\n",
    "import tdmclient.notebook\n",
    "await tdmclient.notebook.start()"
   ]
  },
  {
   "cell_type": "code",
   "execution_count": 44,
   "id": "3422340f",
   "metadata": {},
   "outputs": [],
   "source": [
    "%%run_python\n",
    "timer_period[0]=100 #timer0 will fire 10 times per second\n",
    "toggle0=0\n",
    "\n",
    "@onevent\n",
    "def timer0(): #on timer0 we toggle the color of the top LEDs\n",
    "    global leds_top, leds_bottom_left, leds_bottom_right, toggle0\n",
    "    if toggle0:\n",
    "        toggle0=0\n",
    "        leds_top=BLUE\n",
    "        leds_bottom_left=BLACK\n",
    "        leds_bottom_right=BLACK\n",
    "    else:\n",
    "        toggle0=1\n",
    "        leds_top=BLACK\n",
    "        leds_bottom_left=BLUE\n",
    "        leds_bottom_right=BLUE"
   ]
  },
  {
   "cell_type": "code",
   "execution_count": 57,
   "id": "2593fac3",
   "metadata": {},
   "outputs": [
    {
     "name": "stderr",
     "output_type": "stream",
     "text": [
      "Exception in thread Exception in thread Thread-6:\n",
      "Traceback (most recent call last):\n",
      "  File \"/Users/isaacadel/anaconda3/lib/python3.11/threading.py\", line 1038, in _bootstrap_inner\n",
      "Exception in thread Thread-5:\n",
      "Traceback (most recent call last):\n",
      "  File \"/Users/isaacadel/anaconda3/lib/python3.11/threading.py\", line 1038, in _bootstrap_inner\n",
      "Thread-7:\n",
      "Traceback (most recent call last):\n",
      "  File \"/Users/isaacadel/anaconda3/lib/python3.11/threading.py\", line 1038, in _bootstrap_inner\n",
      "    self.run()\n",
      "  File \"/Users/isaacadel/anaconda3/lib/python3.11/site-packages/tdmclient/tcp.py\", line 73, in run\n",
      "    self.run()\n",
      "  File \"/Users/isaacadel/anaconda3/lib/python3.11/site-packages/tdmclient/tcp.py\", line 73, in run\n",
      "    self.run()\n",
      "  File \"/Users/isaacadel/anaconda3/lib/python3.11/site-packages/tdmclient/tcp.py\", line 73, in run\n",
      "    packet = self.read_packet()\n",
      "             ^^^^^^^^^^^^^^^^^^\n",
      "  File \"/Users/isaacadel/anaconda3/lib/python3.11/site-packages/tdmclient/tcp.py\", line 66, in read_packet\n",
      "    packet = self.read_packet()\n",
      "             ^^^^^^^^^^^^^^^^^^\n",
      "  File \"/Users/isaacadel/anaconda3/lib/python3.11/site-packages/tdmclient/tcp.py\", line 66, in read_packet\n",
      "    packet = self.read_packet()\n",
      "             ^^^^^^^^^^^^^^^^^^\n",
      "  File \"/Users/isaacadel/anaconda3/lib/python3.11/site-packages/tdmclient/tcp.py\", line 66, in read_packet\n",
      "    raise error\n",
      "  File \"/Users/isaacadel/anaconda3/lib/python3.11/site-packages/tdmclient/tcp.py\", line 59, in read_packet\n",
      "    raise error\n",
      "  File \"/Users/isaacadel/anaconda3/lib/python3.11/site-packages/tdmclient/tcp.py\", line 59, in read_packet\n",
      "    raise error\n",
      "  File \"/Users/isaacadel/anaconda3/lib/python3.11/site-packages/tdmclient/tcp.py\", line 59, in read_packet\n",
      "    packet_len = self.read_uint32()\n",
      "                 ^^^^^^^^^^^^^^^^^^\n",
      "  File \"/Users/isaacadel/anaconda3/lib/python3.11/site-packages/tdmclient/tcp.py\", line 46, in read_uint32\n",
      "    packet_len = self.read_uint32()\n",
      "                 ^^^^^^^^^^^^^^^^^^\n",
      "  File \"/Users/isaacadel/anaconda3/lib/python3.11/site-packages/tdmclient/tcp.py\", line 46, in read_uint32\n",
      "    b = self.io.read(4)\n",
      "        ^^^^^^^^^^^^^^^\n",
      "  File \"/Users/isaacadel/anaconda3/lib/python3.11/site-packages/tdmclient/tcp.py\", line 99, in read\n",
      "    packet_len = self.read_uint32()\n",
      "                 ^^^^^^^^^^^^^^^^^^\n",
      "  File \"/Users/isaacadel/anaconda3/lib/python3.11/site-packages/tdmclient/tcp.py\", line 46, in read_uint32\n",
      "    return self.socket.recv(n)\n",
      "           ^^^^^^^^^^^^^^^^^^^\n",
      "ConnectionResetError: [Errno 54] Connection reset by peer\n",
      "    b = self.io.read(4)\n",
      "        ^^^^^^^^^^^^^^^\n",
      "  File \"/Users/isaacadel/anaconda3/lib/python3.11/site-packages/tdmclient/tcp.py\", line 99, in read\n",
      "    b = self.io.read(4)\n",
      "        ^^^^^^^^^^^^^^^\n",
      "  File \"/Users/isaacadel/anaconda3/lib/python3.11/site-packages/tdmclient/tcp.py\", line 99, in read\n",
      "    return self.socket.recv(n)\n",
      "           ^^^^^^^^^^^^^^^^^^^\n",
      "ConnectionResetError: [Errno 54] Connection reset by peer\n",
      "    return self.socket.recv(n)\n",
      "           ^^^^^^^^^^^^^^^^^^^\n",
      "ConnectionResetError: [Errno 54] Connection reset by peer\n"
     ]
    }
   ],
   "source": [
    "await tdmclient.notebook.stop()"
   ]
  },
  {
   "cell_type": "code",
   "execution_count": null,
   "id": "4ccde3b9",
   "metadata": {},
   "outputs": [],
   "source": []
  }
 ],
 "metadata": {
  "kernelspec": {
   "display_name": "Python 3 (ipykernel)",
   "language": "python",
   "name": "python3"
  },
  "language_info": {
   "codemirror_mode": {
    "name": "ipython",
    "version": 3
   },
   "file_extension": ".py",
   "mimetype": "text/x-python",
   "name": "python",
   "nbconvert_exporter": "python",
   "pygments_lexer": "ipython3",
   "version": "3.11.5"
  }
 },
 "nbformat": 4,
 "nbformat_minor": 5
}
