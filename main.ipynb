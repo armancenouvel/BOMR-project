{
 "cells": [
  {
   "cell_type": "code",
   "execution_count": 4,
   "id": "c39962b6-3b28-4d4c-9fc3-38d10d4a050a",
   "metadata": {
    "tags": []
   },
   "outputs": [],
   "source": [
    "import asyncio\n",
    "import time\n",
    "import math\n",
    "import numpy as np\n",
    "from cv2 import VideoCapture\n",
    "import matplotlib.pyplot as plt\n",
    "from matplotlib import colors\n",
    "import Global\n",
    "# from vision.module import detection, utils, constants\n",
    "# from vision.functions import vision_init, get_thymio\n",
    "from vision.functions import vision_init, get_thymio\n",
    "# import vision_nav\n",
    "import KF\n",
    "from Control import Control_tymio"
   ]
  },
  {
   "cell_type": "code",
   "execution_count": 6,
   "id": "1a1c8ec1-eb42-49aa-902a-ce428066dc03",
   "metadata": {},
   "outputs": [
    {
     "data": {
      "text/plain": [
       "Node 459c102c-e51f-4d84-ba38-ef5cd6b70951"
      ]
     },
     "execution_count": 6,
     "metadata": {},
     "output_type": "execute_result"
    }
   ],
   "source": [
    "\n",
    "#Connecting to the tymio\n",
    "from tdmclient import ClientAsync, aw\n",
    "client = ClientAsync()\n",
    "node = aw(client.wait_for_node())\n",
    "aw(node.lock())"
   ]
  },
  {
   "cell_type": "code",
   "execution_count": 59,
   "id": "d05a78e4-e899-4305-94b4-b6c0aa0b4b3a",
   "metadata": {
    "tags": []
   },
   "outputs": [],
   "source": [
    "aw(node.unlock())"
   ]
  },
  {
   "cell_type": "code",
   "execution_count": 7,
   "id": "9834e707-aa65-4fb8-8c55-2762ffbd12cb",
   "metadata": {},
   "outputs": [
    {
     "name": "stderr",
     "output_type": "stream",
     "text": [
      "OpenCV: not authorized to capture video (status 0), requesting...\n",
      "OpenCV: camera failed to properly initialize!\n"
     ]
    }
   ],
   "source": [
    "# lock the camera resource\n",
    "cap = VideoCapture(0)\n",
    "\n",
    "#  allocate variables\n",
    "grid = None\n",
    "obs = []\n",
    "obs_grid = None\n",
    "targets = []\n",
    "goal = []\n",
    "\n",
    "# import constants\n",
    "from vision.constants import grid_height_cells"
   ]
  },
  {
   "cell_type": "code",
   "execution_count": null,
   "metadata": {},
   "outputs": [],
   "source": [
    "#  vision initialization\n",
    "\n",
    "flag, grid, obs, obs_grid, targets, goal = vision_init(cap)\n",
    "if not flag:\n",
    "    assert 0\n",
    "\n",
    "# if you get to this point, the vision is initialized and you have acquired information about the environment"
   ]
  },
  {
   "cell_type": "code",
   "execution_count": 32,
   "id": "4826d1f0-219f-4f9a-98d1-923bf2745011",
   "metadata": {
    "tags": []
   },
   "outputs": [],
   "source": [
    "'''\n",
    "v = {\n",
    "    \"motor.left.target\": [0],\n",
    "    \"motor.right.target\": [0],\n",
    "}\n",
    "aw(node.set_variables(v))\n",
    "'''"
   ]
  },
  {
   "cell_type": "code",
   "execution_count": 15,
   "metadata": {},
   "outputs": [
    {
     "name": "stdout",
     "output_type": "stream",
     "text": [
      "Collecting tk-tools\n",
      "  Downloading tk_tools-0.16.0-py3-none-any.whl (173 kB)\n",
      "\u001b[2K     \u001b[91m━━\u001b[0m\u001b[90m╺\u001b[0m\u001b[90m━━━━━━━━━━━━━━━━━━━━━━━━━━━━━━━━━━━━━\u001b[0m \u001b[32m10.2/173.4 kB\u001b[0m \u001b[31m?\u001b[0m eta \u001b[36m-:--:--\u001b[0m"
     ]
    }
   ],
   "source": [
    "!python -m pip install tk-tools"
   ]
  },
  {
   "cell_type": "code",
   "execution_count": 13,
   "metadata": {},
   "outputs": [
    {
     "ename": "NameError",
     "evalue": "name 'tdmclient' is not defined",
     "output_type": "error",
     "traceback": [
      "\u001b[0;31m---------------------------------------------------------------------------\u001b[0m",
      "\u001b[0;31mNameError\u001b[0m                                 Traceback (most recent call last)",
      "\u001b[1;32m/Users/isaacadel/Desktop/EPFL/MA1/Basics of Mobile Robotics/Projet/Git/BOMR-project/main.ipynb Cell 7\u001b[0m line \u001b[0;36m1\n\u001b[0;32m----> <a href='vscode-notebook-cell:/Users/isaacadel/Desktop/EPFL/MA1/Basics%20of%20Mobile%20Robotics/Projet/Git/BOMR-project/main.ipynb#X20sZmlsZQ%3D%3D?line=0'>1</a>\u001b[0m \u001b[39m@tdmclient\u001b[39m\u001b[39m.\u001b[39mnotebook\u001b[39m.\u001b[39msynnc_var\n\u001b[1;32m      <a href='vscode-notebook-cell:/Users/isaacadel/Desktop/EPFL/MA1/Basics%20of%20Mobile%20Robotics/Projet/Git/BOMR-project/main.ipynb#X20sZmlsZQ%3D%3D?line=1'>2</a>\u001b[0m \u001b[39mdef\u001b[39;00m \u001b[39mmotors_set_speed\u001b[39m(left_speed \u001b[39m=\u001b[39m \u001b[39m100\u001b[39m, right_speed \u001b[39m=\u001b[39m \u001b[39m100\u001b[39m, verbose \u001b[39m=\u001b[39m \u001b[39mFalse\u001b[39;00m):\n\u001b[1;32m      <a href='vscode-notebook-cell:/Users/isaacadel/Desktop/EPFL/MA1/Basics%20of%20Mobile%20Robotics/Projet/Git/BOMR-project/main.ipynb#X20sZmlsZQ%3D%3D?line=2'>3</a>\u001b[0m     \u001b[39mglobal\u001b[39;00m motor_left_target, motor_right_target\n\u001b[1;32m      <a href='vscode-notebook-cell:/Users/isaacadel/Desktop/EPFL/MA1/Basics%20of%20Mobile%20Robotics/Projet/Git/BOMR-project/main.ipynb#X20sZmlsZQ%3D%3D?line=3'>4</a>\u001b[0m     \u001b[39mif\u001b[39;00m verbose:\n",
      "\u001b[0;31mNameError\u001b[0m: name 'tdmclient' is not defined"
     ]
    }
   ],
   "source": [
    "@tdmclient.notebook.synnc_var\n",
    "def motors_set_speed(left_speed = 100, right_speed = 100, verbose = False):\n",
    "    global motor_left_target, motor_right_target\n",
    "    if verbose:\n",
    "        print(\"\\t\\t setting speed : \", left_speed, right_speed)\n",
    "    motor_left_target = left_speed\n",
    "    motor_right_target = right_speed"
   ]
  },
  {
   "cell_type": "code",
   "execution_count": null,
   "metadata": {},
   "outputs": [],
   "source": [
    "@tdmclient.notebook.synnc_var\n",
    "def motors_get_speed():\n",
    "    global motor_left_target, motor_right_target\n",
    "    left_speed = motor_left_target\n",
    "    right_speed = motor_right_target\n",
    "    return left_speed, right_speed"
   ]
  },
  {
   "cell_type": "code",
   "execution_count": 4,
   "id": "49c64278-3c20-48c4-9cf6-ed3c377ae388",
   "metadata": {
    "tags": []
   },
   "outputs": [],
   "source": [
    "def create_empty_plot(max_val):\n",
    "    \"\"\"\n",
    "    Helper function to create a figure of the desired dimensions & grid\n",
    "    \n",
    "    :param max_val: dimension of the map along the x and y dimensions\n",
    "    :return: the fig and ax objects.\n",
    "    \"\"\"\n",
    "    fig, ax = plt.subplots(figsize=(7,7))\n",
    "    \n",
    "    major_ticks = np.arange(0, max_val+1, 5)\n",
    "    minor_ticks = np.arange(0, max_val+1, 1)\n",
    "    ax.set_xticks(major_ticks)\n",
    "    ax.set_xticks(minor_ticks, minor=True)\n",
    "    ax.set_yticks(major_ticks)\n",
    "    ax.set_yticks(minor_ticks, minor=True)\n",
    "    ax.grid(which='minor', alpha=0.2)\n",
    "    ax.grid(which='major', alpha=0.5)\n",
    "    ax.set_ylim([-1,max_val])\n",
    "    ax.set_xlim([-1,max_val])\n",
    "    ax.grid(True)\n",
    "    \n",
    "    return fig, ax"
   ]
  },
  {
   "cell_type": "code",
   "execution_count": 9,
   "metadata": {},
   "outputs": [
    {
     "name": "stdout",
     "output_type": "stream",
     "text": [
      "[<vision.VisionObjects.Obstacle object at 0x7f90c491aa60>, <vision.VisionObjects.Obstacle object at 0x7f90c491a9a0>, <vision.VisionObjects.Obstacle object at 0x7f90c491a970>]\n",
      "[[0. 0. 0. 0. 0.]\n",
      " [0. 0. 0. 1. 0.]\n",
      " [0. 1. 0. 0. 0.]\n",
      " [0. 0. 1. 0. 0.]\n",
      " [0. 0. 0. 0. 0.]\n",
      " [0. 0. 0. 0. 0.]\n",
      " [0. 0. 0. 0. 0.]]\n"
     ]
    },
    {
     "data": {
      "image/png": "[encoded data removed]",
      "text/plain": [
       "<Figure size 700x700 with 1 Axes>"
      ]
     },
     "metadata": {},
     "output_type": "display_data"
    }
   ],
   "source": [
    "max_val = grid_height_cells  # here, we suppose a squared environment\n",
    "fig, ax = create_empty_plot(max_val)\n",
    "\n",
    "# set plot origin to top left \n",
    "plt.xlim(0, max_val)\n",
    "plt.ylim(max_val, 0)\n",
    "\n",
    "# Displaying the map\n",
    "cmap = colors.ListedColormap(['white', 'black'])\n",
    "ax.imshow(obs_grid, cmap=cmap)\n",
    "plt.title(\"Map : free cells in white, occupied cells in red\")"
   ]
  },
  {
   "cell_type": "code",
   "execution_count": 3,
   "id": "b75ad25a-84cf-4dea-b6a6-3bb2dba82306",
   "metadata": {
    "tags": []
   },
   "outputs": [
    {
     "data": {
      "image/png": "[encoded data removed]",
      "text/plain": [
       "<Figure size 700x700 with 1 Axes>"
      ]
     },
     "metadata": {},
     "output_type": "display_data"
    }
   ],
   "source": [
    "# OLD VERSION\n",
    "#Creating the grid\n",
    "max_val = 12 # Size of the map\n",
    "\n",
    "fig, ax = create_empty_plot(max_val)\n",
    "\n",
    "# Creating the occupancy grid\n",
    "np.random.seed(5) # To guarantee the same outcome on all computers\n",
    "data = np.random.rand(max_val, max_val)*20 # Create a grid of 50 x 50 random values, a matrix 50*50\n",
    "cmap = colors.ListedColormap(['white', 'black']) # Select the colors with which to display obstacles and free cells\n",
    "# Converting the random values into occupied and free cells\n",
    "limit = 17\n",
    "occupancy_grid = data.copy()\n",
    "occupancy_grid[data>limit] = 1\n",
    "occupancy_grid[data<=limit] = 0\n",
    "\n",
    "# Displaying the map\n",
    "ax.imshow(occupancy_grid.transpose(), cmap=cmap)\n",
    "plt.title(\"Map : free cells in white, occupied cells in red\");"
   ]
  },
  {
   "cell_type": "code",
   "execution_count": 4,
   "id": "ddc10623-ca4c-4d7a-a581-386b29788840",
   "metadata": {
    "tags": []
   },
   "outputs": [],
   "source": [
    "# List of all coordinates in the grid\n",
    "#max_val is the size of the map\n",
    "#x: 2D array where each element x[i, j] represents the x coordinate at position (i, j) in the grid.\n",
    "#Donc x[1,n] rendra toujours 1 car la coord x d'un point en (1,n) est 1\n",
    "#y: 2D array where each element y[i, j] represents the y coordinate at position (i, j) in the grid.\n",
    "x,y = np.mgrid[0:max_val:1, 0:max_val:1]\n",
    "pos = np.empty(x.shape + (2,))\n",
    "pos[:, :, 0] = x; pos[:, :, 1] = y\n",
    "pos = np.reshape(pos, (x.shape[0]*x.shape[1], 2))\n",
    "#Coords countains all the possible coordinates of the grid from (0,0) to (max_val-1,max_val-1)\n",
    "coords = list([(int(x[0]), int(x[1])) for x in pos])\n",
    "\n",
    "#Defining fake start and end goal for now on\n",
    "start = (0,0)\n",
    "goal = (10,9)"
   ]
  },
  {
   "cell_type": "code",
   "execution_count": 5,
   "id": "f5c8c2dc-23b4-4473-be7f-6bf956e972af",
   "metadata": {
    "tags": []
   },
   "outputs": [],
   "source": [
    "#Defining the distance to the goal ignoring the obstacles, here using the Euclidian distance with the function np.linalg.norm\n",
    "# Define the heuristic, here = distance to goal ignoring obstacles\n",
    "h = np.linalg.norm(pos - goal, axis=-1)\n",
    "h = dict(zip(coords, h))"
   ]
  },
  {
   "cell_type": "code",
   "execution_count": 6,
   "id": "ae537bf4-1a36-48a7-969f-2ea68de3628e",
   "metadata": {
    "tags": []
   },
   "outputs": [
    {
     "data": {
      "image/png": "[encoded data removed]",
      "text/plain": [
       "<Figure size 700x700 with 1 Axes>"
      ]
     },
     "metadata": {},
     "output_type": "display_data"
    }
   ],
   "source": [
    "# Run the A* algorithm\n",
    "path, visitedNodes = Global.A_Star(start, goal, h, coords, grid, movement_type=\"4N\") # changed occupancy_grid by grid\n",
    "path = np.array(path).reshape(-1, 2).transpose()\n",
    "visitedNodes = np.array(visitedNodes).reshape(-1, 2).transpose()\n",
    "\n",
    "# Displaying the map\n",
    "fig_astar, ax_astar = create_empty_plot(max_val)\n",
    "ax_astar.imshow(grid.transpose(), cmap=cmap) # changed occupancy_grid by grid\n",
    "\n",
    "# Plot the best path found and the list of visited nodes\n",
    "ax_astar.scatter(visitedNodes[0], visitedNodes[1], marker=\"o\", color = 'grey')\n",
    "ax_astar.plot(path[0], path[1], marker=\"o\", color = 'red')\n",
    "ax_astar.scatter(start[0], start[1], marker=\"o\", color = 'green', s=200)\n",
    "ax_astar.scatter(goal[0], goal[1], marker=\"o\", color = 'purple', s=200)"
   ]
  },
  {
   "cell_type": "code",
   "execution_count": 82,
   "id": "a9f89833-7362-4847-9f4b-6614a7c72206",
   "metadata": {
    "tags": []
   },
   "outputs": [
    {
     "name": "stdout",
     "output_type": "stream",
     "text": [
      "Problem with vision_nav function module 'cv2.aruco' has no attribute 'Dictionary_get'\n"
     ]
    },
    {
     "ename": "NameError",
     "evalue": "name 'speed' is not defined",
     "output_type": "error",
     "traceback": [
      "\u001b[1;31m---------------------------------------------------------------------------\u001b[0m",
      "\u001b[1;31mNameError\u001b[0m                                 Traceback (most recent call last)",
      "Cell \u001b[1;32mIn[82], line 19\u001b[0m\n\u001b[0;32m     16\u001b[0m \u001b[38;5;66;03m#Motor speed\u001b[39;00m\n\u001b[0;32m     18\u001b[0m tracker \u001b[38;5;241m=\u001b[39m KF\u001b[38;5;241m.\u001b[39mKalmanFilter()\n\u001b[1;32m---> 19\u001b[0m speed_xy,orientation_est \u001b[38;5;241m=\u001b[39m tracker\u001b[38;5;241m.\u001b[39mcompute_x_y_speed(\u001b[43mspeed\u001b[49m[\u001b[38;5;241m0\u001b[39m],speed[\u001b[38;5;241m1\u001b[39m])\n\u001b[0;32m     22\u001b[0m tymio \u001b[38;5;241m=\u001b[39m Control_tymio(node,client)\n\u001b[0;32m     23\u001b[0m \u001b[38;5;28mprint\u001b[39m(tymio)\n",
      "\u001b[1;31mNameError\u001b[0m: name 'speed' is not defined"
     ]
    }
   ],
   "source": [
    "#Main \n",
    "index = 0\n",
    "size_path = len(path[0])\n",
    "old_pos = start\n",
    "target = path[:][0]\n",
    "epsilon = 0.2\n",
    "Kidnapping_threshold = 4\n",
    "while size_path > index: \n",
    "    #Checking the state of camera\n",
    "    camera_on = True\n",
    "    # try:\n",
    "    #     _, _, state = get_thymio(cap)\n",
    "    # except Exception as e:\n",
    "    #     print(\"Problem with vision_nav function\",e)\n",
    "    #     camera_on = False\n",
    "\n",
    "    flag, _, state = get_thymio(cap)\n",
    "    if not flag:\n",
    "        print(\"Problem with vision_nav function\")\n",
    "        camera_on = False\n",
    "    else:\n",
    "        pos = [state[0],state[1]]\n",
    "        angle = state[2]\n",
    "\n",
    "    #Motor speed\n",
    "    tymio = Control_tymio(node,client)\n",
    "    print(tymio)\n",
    "    tymio.sync()\n",
    "    speed_left, speed_right = tymio.get_sensors()\n",
    "    speed = [speed_left,speed_right]\n",
    "    if ~camera_on:\n",
    "        #Kalmann\n",
    "        tracker = KF.KalmanFilter()\n",
    "        speed_xy,orientation_est = tracker.compute_x_y_speed(speed[0],speed[1])\n",
    "        x_est = [pos[-1][0],pos[-1][1],speed_xy[0],speed_xy[1]]\n",
    "        P_est = np.eye(4)*1000\n",
    "        pos,speed,angle,x_est,P_est = tracker.predict(speed[0],speed[1],orientation_est,x_est,P_est)\n",
    "        \n",
    "        #calculer la norm old pos vs pos --> si superieur a treshold kidnapping\n",
    "        distance = math.sqrt((pos[0] - old_pos[0])**2 + (pos[1] - old_pos[1])**2)\n",
    "        if distance > Kidnapping_threshold:\n",
    "            #Need to initialize kidnapping_threshold with a value\n",
    "            #recompute vision to get the new position-> this new position is the new start point, the goal remain unchanged\n",
    "            flag, _, state = get_thymio(cap)\n",
    "            if flag:\n",
    "                pos = [state[0],state[1]]\n",
    "                angle = state[2]\n",
    "            else:\n",
    "                print(\"Problem with thymio_get function\")\n",
    "            path, visitedNodes = Global.A_Star(start, goal, h, coords, grid, movement_type=\"4N\")\n",
    "            path = np.array(path).reshape(-1, 2).transpose()\n",
    "            visitedNodes = np.array(visitedNodes).reshape(-1, 2).transpose()\n",
    "            index = 0 #The index need to be re-initialized since we have a new path\n",
    "            \n",
    "        #Check if robot has arrived at target, and update it if yes\n",
    "        for idx in range(len(path)):\n",
    "            if(np.norm(pos[0] == path[idx][0] and pos[1] == path[idx][1]) < epsilon):\n",
    "                index = idx\n",
    "                target = path[:][idx+1]\n",
    "            \n",
    "        #start leds and sound\n",
    "        \n",
    "        #Function obstacle check to implement\n",
    "        obstacle_detected = False\n",
    "        #Need to add obstacle avoidance\n",
    "    \n",
    "        #Motion control\n",
    "        #Take into account the KF variable here no ?\n",
    "        tymio.following_path(pos,angle,target)\n",
    "        \n",
    "            "
   ]
  },
  {
   "cell_type": "code",
   "execution_count": null,
   "id": "a7b4c203-4c8c-4aa1-9951-33edbf34b40f",
   "metadata": {},
   "outputs": [],
   "source": [
    "# release the camera resource\n",
    "cap.release()"
   ]
  }
 ],
 "metadata": {
  "kernelspec": {
   "display_name": "Python 3 (ipykernel)",
   "language": "python",
   "name": "python3"
  },
  "language_info": {
   "codemirror_mode": {
    "name": "ipython",
    "version": 3
   },
   "file_extension": ".py",
   "mimetype": "text/x-python",
   "name": "python",
   "nbconvert_exporter": "python",
   "pygments_lexer": "ipython3",
   "version": "3.11.2"
  }
 },
 "nbformat": 4,
 "nbformat_minor": 5
}
