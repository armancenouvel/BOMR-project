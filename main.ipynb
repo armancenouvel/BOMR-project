{
 "cells": [
  {
   "cell_type": "code",
   "execution_count": 3,
   "id": "c39962b6-3b28-4d4c-9fc3-38d10d4a050a",
   "metadata": {
    "tags": []
   },
   "outputs": [],
   "source": [
    "import asyncio\n",
    "import time\n",
    "import math\n",
    "import numpy as np\n",
    "from cv2 import VideoCapture\n",
    "import matplotlib.pyplot as plt\n",
    "from matplotlib import colors\n",
    "import Global\n",
    "# from vision.module import detection, utils, constants\n",
    "# from vision.functions import vision_init, get_thymio\n",
    "from vision.functions import vision_init, get_thymio\n",
    "# import vision_nav\n",
    "import KF\n",
    "from Control import Control\n",
    "import cv2\n",
    "from itertools import chain\n",
    "import math"
   ]
  },
  {
   "cell_type": "code",
   "execution_count": 2,
   "id": "1a1c8ec1-eb42-49aa-902a-ce428066dc03",
   "metadata": {
    "tags": []
   },
   "outputs": [
    {
     "data": {
      "text/plain": [
       "Node 459c102c-e51f-4d84-ba38-ef5cd6b70951"
      ]
     },
     "execution_count": 2,
     "metadata": {},
     "output_type": "execute_result"
    }
   ],
   "source": [
    "#Connecting to the tymio\n",
    "from tdmclient import ClientAsync, aw\n",
    "client = ClientAsync()\n",
    "node = aw(client.wait_for_node())\n",
    "aw(node.lock())"
   ]
  },
  {
   "cell_type": "code",
   "execution_count": 3,
   "id": "5506b1cc-4b2e-400f-a6d7-ce5585279996",
   "metadata": {
    "tags": []
   },
   "outputs": [
    {
     "name": "stdout",
     "output_type": "stream",
     "text": [
      "init\n"
     ]
    }
   ],
   "source": [
    "thymio = Control(node,client)"
   ]
  },
  {
   "cell_type": "code",
   "execution_count": 3,
   "id": "d05a78e4-e899-4305-94b4-b6c0aa0b4b3a",
   "metadata": {
    "tags": []
   },
   "outputs": [
    {
     "data": {
      "text/plain": [
       "{'error_code': 2}"
      ]
     },
     "execution_count": 3,
     "metadata": {},
     "output_type": "execute_result"
    }
   ],
   "source": [
    "aw(node.unlock())"
   ]
  },
  {
   "cell_type": "code",
   "execution_count": 4,
   "id": "2d38f566-1e62-4720-a27e-988130c0eb43",
   "metadata": {
    "tags": []
   },
   "outputs": [
    {
     "name": "stdout",
     "output_type": "stream",
     "text": [
      "Going forward\n"
     ]
    }
   ],
   "source": [
    "#thymio.set_motors(0,\"forward\")"
   ]
  },
  {
   "cell_type": "code",
   "execution_count": 8,
   "id": "189addf5-97d4-4ed6-ba6c-86c139486251",
   "metadata": {
    "tags": []
   },
   "outputs": [
    {
     "data": {
      "text/plain": [
       "0"
      ]
     },
     "metadata": {},
     "output_type": "display_data"
    },
    {
     "data": {
      "text/plain": [
       "0"
      ]
     },
     "metadata": {},
     "output_type": "display_data"
    },
    {
     "data": {
      "text/plain": [
       "[0, 0, 0, 0, 0, 0, 0]"
      ]
     },
     "metadata": {},
     "output_type": "display_data"
    }
   ],
   "source": [
    "ls,rs,prox = await thymio.get_sensors()\n",
    "display(ls)\n",
    "display(rs)\n",
    "display(prox)"
   ]
  },
  {
   "cell_type": "code",
   "execution_count": 4,
   "id": "26133c98-5706-4f25-ba1a-9cbfc6b26af5",
   "metadata": {
    "tags": []
   },
   "outputs": [],
   "source": [
    "v = {\n",
    "    \"motor.left.target\": [0],\n",
    "    \"motor.right.target\": [0],\n",
    "}\n",
    "aw(node.set_variables(v))"
   ]
  },
  {
   "cell_type": "code",
   "execution_count": 4,
   "id": "1dbe05f4-c505-4395-8fe7-ff14aa041c80",
   "metadata": {
    "tags": []
   },
   "outputs": [],
   "source": [
    "# lock the camera resource\n",
    "cap = VideoCapture(0)"
   ]
  },
  {
   "cell_type": "code",
   "execution_count": 5,
   "id": "9834e707-aa65-4fb8-8c55-2762ffbd12cb",
   "metadata": {},
   "outputs": [],
   "source": [
    "grid = None\n",
    "obs = []\n",
    "obs_grid = None\n",
    "targets = []\n",
    "goal = []\n",
    "\n",
    "# import constants\n",
    "from vision.constants import grid_height_cells"
   ]
  },
  {
   "cell_type": "code",
   "execution_count": null,
   "id": "eebe2c77-682a-47b2-8f27-13327801c588",
   "metadata": {},
   "outputs": [],
   "source": []
  },
  {
   "cell_type": "code",
   "execution_count": 7,
   "id": "5fe6a0c3",
   "metadata": {},
   "outputs": [
    {
     "name": "stdout",
     "output_type": "stream",
     "text": [
      "------------------\n",
      "grid_extraction: markers found\n",
      "IDS:\n",
      "[[4]\n",
      " [3]\n",
      " [5]\n",
      " [2]]\n",
      "------------------\n",
      "\u001b[91mError in module.utils.grid_extraction: cannot classify corners correctly\u001b[0m\n",
      "------------------\n",
      "grid_extraction: markers found\n",
      "IDS:\n",
      "[[4]\n",
      " [3]\n",
      " [5]\n",
      " [2]\n",
      " [1]]\n",
      "------------------\n"
     ]
    }
   ],
   "source": [
    "#  vision initialization\n",
    "\n",
    "flag, grid, obs, obs_grid, targets, goal = vision_init(cap)\n",
    "\n",
    "if not flag:\n",
    "    assert 0\n",
    "\n",
    "# if you get to this point, the vision is initialized and you have acquired information about the environment"
   ]
  },
  {
   "cell_type": "code",
   "execution_count": 8,
   "id": "8a22bb54-2c2a-4652-9476-a78e4ed04bf5",
   "metadata": {
    "tags": []
   },
   "outputs": [
    {
     "data": {
      "text/plain": [
       "(1, 0)"
      ]
     },
     "metadata": {},
     "output_type": "display_data"
    }
   ],
   "source": [
    "#Extracting targets to be in array and not matrix\n",
    "targets = tuple([item for sublist in targets for item in sublist])\n",
    "display(targets)"
   ]
  },
  {
   "cell_type": "code",
   "execution_count": 9,
   "id": "2d4ab540-d87f-4a6c-b89d-57d011a690ec",
   "metadata": {
    "tags": []
   },
   "outputs": [
    {
     "data": {
      "text/plain": [
       "(6, 5)"
      ]
     },
     "metadata": {},
     "output_type": "display_data"
    }
   ],
   "source": [
    "#Extracting goal to be in array and not matrix format\n",
    "goal = tuple([item for sublist in goal for item in sublist])\n",
    "display(goal)"
   ]
  },
  {
   "cell_type": "code",
   "execution_count": null,
   "id": "207309c3-116b-4b9f-9e83-55263928b206",
   "metadata": {
    "tags": []
   },
   "outputs": [],
   "source": []
  },
  {
   "cell_type": "code",
   "execution_count": 10,
   "id": "536059e0",
   "metadata": {},
   "outputs": [
    {
     "name": "stdout",
     "output_type": "stream",
     "text": [
      "Requirement already satisfied: tk-tools in c:\\users\\antoi\\anaconda3\\lib\\site-packages (0.16.0)\n",
      "Requirement already satisfied: engineering-notation>=0.5 in c:\\users\\antoi\\anaconda3\\lib\\site-packages (from tk-tools) (0.9.0)\n"
     ]
    }
   ],
   "source": [
    "!python -m pip install tk-tools"
   ]
  },
  {
   "cell_type": "code",
   "execution_count": 4,
   "id": "49c64278-3c20-48c4-9cf6-ed3c377ae388",
   "metadata": {
    "tags": []
   },
   "outputs": [],
   "source": [
    "def create_empty_plot(width, height):\n",
    "    \n",
    "        fig, ax = plt.subplots(figsize=(width, height))\n",
    "\n",
    "        major_ticks_x = np.arange(0, width+1, 5)\n",
    "        minor_ticks_x = np.arange(0, width+1, 1)\n",
    "        major_ticks_y = np.arange(0, height+1, 5)\n",
    "        minor_ticks_y = np.arange(0, height+1, 1)\n",
    "\n",
    "        ax.set_xticks(major_ticks_x)\n",
    "        ax.set_xticks(minor_ticks_x, minor=True)\n",
    "        ax.set_yticks(major_ticks_y)\n",
    "        ax.set_yticks(minor_ticks_y, minor=True)\n",
    "        ax.grid(which='minor', alpha=0.2)\n",
    "        ax.grid(which='major', alpha=0.5)\n",
    "\n",
    "        ax.set_ylim([-1, height])\n",
    "        ax.set_xlim([-1, width])\n",
    "        ax.grid(True)\n",
    "\n",
    "        return fig, ax"
   ]
  },
  {
   "cell_type": "code",
   "execution_count": null,
   "id": "a515f93f-f433-4849-94b8-2d0d8adbe20f",
   "metadata": {},
   "outputs": [],
   "source": [
    "max_val = grid_height_cells  # here, we suppose a squared environment\n",
    "fig, ax = create_empty_plot(max_val)\n",
    "\n",
    "# set plot origin to top left \n",
    "plt.xlim(0, max_val)\n",
    "plt.ylim(max_val, 0)\n",
    "\n",
    "# Displaying the map\n",
    "cmap = colors.ListedColormap(['white', 'black'])\n",
    "ax.imshow(obs_grid, cmap=cmap)\n",
    "plt.title(\"Map : free cells in white, occupied cells in red\")"
   ]
  },
  {
   "cell_type": "code",
   "execution_count": null,
   "id": "d021bd8a-3b7e-4bc6-889a-061df7d666e5",
   "metadata": {},
   "outputs": [],
   "source": [
    "# List of all coordinates in the grid\n",
    "#max_val is the size of the map\n",
    "#x: 2D array where each element x[i, j] represents the x coordinate at position (i, j) in the grid.\n",
    "#Donc x[1,n] rendra toujours 1 car la coord x d'un point en (1,n) est 1\n",
    "#y: 2D array where each element y[i, j] represents the y coordinate at position (i, j) in the grid.\n",
    "# List of all coordinates in the grid\n",
    "x, y = np.mgrid[0:width:1, 0:height:1]\n",
    "pos = np.empty(x.shape + (2,))\n",
    "pos[:, :, 0] = x\n",
    "pos[:, :, 1] = y\n",
    "pos = np.reshape(pos, (x.shape[0] * x.shape[1], 2))\n",
    "\n",
    "# Coords contains all the possible coordinates of the grid from (0,0) to (width-1, height-1)\n",
    "coords = list([(int(x[0]), int(x[1])) for x in pos])\n",
    "\n",
    "#Defining the start  point and end goal for now on\n",
    "flag, t ,state = get_thymio(cap)\n",
    "if flag:\n",
    "    start = tuple([state[0]-0.5,state[1]])\n",
    "    angle = state[2]\n",
    "else:\n",
    "    print(\"Problem with thymio_get function\")\n",
    "print(t.center_pixel)\n",
    "start = tuple(map(round, start))"
   ]
  },
  {
   "cell_type": "code",
   "execution_count": 13,
   "id": "2f307224-d033-48bf-8d1e-214c43089566",
   "metadata": {
    "tags": []
   },
   "outputs": [
    {
     "data": {
      "text/plain": [
       "(4, 4)"
      ]
     },
     "execution_count": 13,
     "metadata": {},
     "output_type": "execute_result"
    }
   ],
   "source": [
    "start"
   ]
  },
  {
   "cell_type": "code",
   "execution_count": 14,
   "id": "f5c8c2dc-23b4-4473-be7f-6bf956e972af",
   "metadata": {
    "tags": []
   },
   "outputs": [],
   "source": [
    "#Defining the distance to the goal ignoring the obstacles, here using the Euclidian distance with the function np.linalg.norm\n",
    "# Define the heuristic, here = distance to goal ignoring obstacles\n",
    "h = np.linalg.norm(pos - goal, axis=-1)\n",
    "h = dict(zip(coords, h))"
   ]
  },
  {
   "cell_type": "code",
   "execution_count": null,
   "id": "56ab2273-293a-4d25-ab1e-32980e931f9e",
   "metadata": {},
   "outputs": [],
   "source": [
    "# Run the A* algorithm\n",
    "path, visitedNodes = A_Star(start, goal, h, coords, obs_grid, height=10, width=7, movement_type=\"4N\")\n",
    "path = np.array(path).reshape(-1, 2).transpose()\n",
    "visitedNodes = np.array(visitedNodes).reshape(-1, 2).transpose()\n",
    "\n",
    "# Displaying the map\n",
    "fig_astar, ax_astar = create_empty_plot(width, height)  # Use width and height here\n",
    "ax_astar.imshow(obs_grid.transpose(), cmap=cmap)\n",
    "\n",
    "# Plot the best path found and the list of visited nodes\n",
    "ax_astar.scatter(visitedNodes[0], visitedNodes[1], marker=\"o\", color='grey')\n",
    "ax_astar.plot(path[0], path[1], marker=\"o\", color='red')\n",
    "ax_astar.scatter(start[0], start[1], marker=\"o\", color='green', s=200)\n",
    "ax_astar.scatter(goal[0], goal[1], marker=\"o\", color='purple', s=200)\n"
   ]
  },
  {
   "cell_type": "code",
   "execution_count": 22,
   "id": "864bf9eb-1042-4e07-9b83-8b060cfacea8",
   "metadata": {
    "tags": []
   },
   "outputs": [
    {
     "name": "stdout",
     "output_type": "stream",
     "text": [
      "Going forward\n",
      "left speed: 50\n",
      "righ speed: 50\n"
     ]
    }
   ],
   "source": [
    "thymio.set_motors(0,\"forward\")"
   ]
  },
  {
   "cell_type": "code",
   "execution_count": 17,
   "id": "4e520707-98d7-43b6-a75a-40af01a1e25b",
   "metadata": {
    "tags": []
   },
   "outputs": [],
   "source": [
    "v = {\n",
    "    \"motor.left.target\": [0],\n",
    "    \"motor.right.target\": [0],\n",
    "}\n",
    "aw(node.set_variables(v))\n"
   ]
  },
  {
   "cell_type": "code",
   "execution_count": 18,
   "id": "3db629b7-f4e1-41af-a51d-30e360c1dbf9",
   "metadata": {
    "tags": []
   },
   "outputs": [
    {
     "name": "stdout",
     "output_type": "stream",
     "text": [
      "[[4 4 4 4 5 5 6]\n",
      " [1 2 3 4 4 5 5]]\n"
     ]
    }
   ],
   "source": [
    "print(path)\n"
   ]
  },
  {
   "cell_type": "code",
   "execution_count": 16,
   "id": "a9f89833-7362-4847-9f4b-6614a7c72206",
   "metadata": {
    "tags": []
   },
   "outputs": [
    {
     "name": "stdout",
     "output_type": "stream",
     "text": [
      "------------------\n",
      "grid_extraction: markers found\n",
      "IDS:\n",
      "[[4]\n",
      " [3]\n",
      " [5]\n",
      " [2]\n",
      " [1]]\n",
      "------------------\n",
      "------------------\n",
      "thymio_recognition: markers found\n",
      "IDS:\n",
      "[[5]]\n",
      "------------------\n",
      "The position given by vision is: (4.04, 4.16)\n",
      "[0, 0]\n",
      "True\n",
      "position in main: (4.04, 4.16)\n",
      "target in main (5, 4)\n",
      "angle in main 92.82\n",
      "following path 0.9732420048477152\n",
      "checkpoint:  (5, 4)\n",
      "angle to checkpoints: 9.46232220802565\n",
      "vector to checkpoint: (0.96, -0.16000000000000014)\n",
      "delta :  -83.35767779197434\n",
      "turn\n",
      "Turning\n",
      "left speed: 0\n",
      "righ speed: 0\n",
      "awake\n",
      "test\n",
      "------------------\n",
      "grid_extraction: markers found\n",
      "IDS:\n",
      "[[4]\n",
      " [3]\n",
      " [2]\n",
      " [1]]\n",
      "------------------\n",
      "------------------\n",
      "thymio_recognition: markers found\n",
      "IDS:\n",
      "None\n",
      "------------------\n",
      "\u001b[91mError in vision.functions.thymio_recognition: no markers found\u001b[0m\n",
      "------------------\n",
      "grid_extraction: markers found\n",
      "IDS:\n",
      "[[4]\n",
      " [3]\n",
      " [2]\n",
      " [1]]\n",
      "------------------\n",
      "------------------\n",
      "thymio_recognition: markers found\n",
      "IDS:\n",
      "None\n",
      "------------------\n",
      "\u001b[91mError in vision.functions.thymio_recognition: no markers found\u001b[0m\n",
      "------------------\n",
      "grid_extraction: markers found\n",
      "IDS:\n",
      "[[4]\n",
      " [3]\n",
      " [2]\n",
      " [1]]\n",
      "------------------\n",
      "------------------\n",
      "thymio_recognition: markers found\n",
      "IDS:\n",
      "None\n",
      "------------------\n",
      "\u001b[91mError in vision.functions.thymio_recognition: no markers found\u001b[0m\n",
      "------------------\n",
      "grid_extraction: markers found\n",
      "IDS:\n",
      "[[4]\n",
      " [3]\n",
      " [5]\n",
      " [2]\n",
      " [1]]\n",
      "------------------\n",
      "------------------\n",
      "thymio_recognition: markers found\n",
      "IDS:\n",
      "[[5]]\n",
      "------------------\n",
      "The position given by vision is: (4.33, 3.84)\n",
      "[-53, 48]\n",
      "True\n",
      "position in main: (4.33, 3.84)\n",
      "target in main (5, 4)\n",
      "angle in main -10.41\n",
      "following path 0.6888396039717809\n",
      "checkpoint:  (5, 4)\n",
      "angle to checkpoints: 13.431028870681681\n",
      "vector to checkpoint: (0.6699999999999999, 0.16000000000000014)\n",
      "delta :  23.841028870681683\n",
      "forward\n",
      "Going forward\n",
      "left speed: 74\n",
      "righ speed: 74\n",
      "test\n",
      "------------------\n",
      "grid_extraction: markers found\n",
      "IDS:\n",
      "[[4]\n",
      " [3]\n",
      " [5]\n",
      " [2]\n",
      " [1]]\n",
      "------------------\n",
      "------------------\n",
      "thymio_recognition: markers found\n",
      "IDS:\n",
      "[[5]]\n",
      "------------------\n",
      "The position given by vision is: (4.07, 3.6)\n",
      "[73, 70]\n",
      "True\n",
      "position in main: (4.07, 3.6)\n",
      "target in main (5, 4)\n",
      "angle in main -92.16\n",
      "following path 1.0123734488813894\n",
      "checkpoint:  (5, 4)\n",
      "angle to checkpoints: 23.272904064081967\n",
      "vector to checkpoint: (0.9299999999999997, 0.3999999999999999)\n",
      "delta :  115.43290406408197\n",
      "turn\n",
      "Turning\n",
      "left speed: 119\n",
      "righ speed: 119\n",
      "awake\n",
      "test\n",
      "------------------\n",
      "grid_extraction: markers found\n",
      "IDS:\n",
      "[[4]\n",
      " [3]\n",
      " [5]\n",
      " [2]\n",
      " [1]]\n",
      "------------------\n",
      "------------------\n",
      "thymio_recognition: markers found\n",
      "IDS:\n",
      "[[5]]\n",
      "------------------\n",
      "The position given by vision is: (4.14, 2.42)\n",
      "[69, -68]\n",
      "True\n",
      "position in main: (4.14, 2.42)\n",
      "target in main (5, 4)\n",
      "angle in main -39.84\n",
      "following path 1.798888545741509\n",
      "checkpoint:  (5, 4)\n",
      "angle to checkpoints: 61.44037952168017\n",
      "vector to checkpoint: (0.8600000000000003, 1.58)\n",
      "delta :  101.28037952168017\n",
      "turn\n",
      "Turning\n",
      "left speed: 111\n",
      "righ speed: 111\n",
      "awake\n",
      "test\n",
      "------------------\n",
      "grid_extraction: markers found\n",
      "IDS:\n",
      "[[4]\n",
      " [3]\n",
      " [5]\n",
      " [2]]\n",
      "------------------\n",
      "\u001b[91mError in module.utils.grid_extraction: cannot classify corners correctly\u001b[0m\n",
      "------------------\n",
      "grid_extraction: markers found\n",
      "IDS:\n",
      "[[4]\n",
      " [3]\n",
      " [5]\n",
      " [2]\n",
      " [1]]\n",
      "------------------\n",
      "------------------\n",
      "thymio_recognition: markers found\n",
      "IDS:\n",
      "[[5]]\n",
      "------------------\n",
      "The position given by vision is: (3.66, 2.62)\n"
     ]
    },
    {
     "ename": "CancelledError",
     "evalue": "",
     "output_type": "error",
     "traceback": [
      "\u001b[1;31m---------------------------------------------------------------------------\u001b[0m",
      "\u001b[1;31mCancelledError\u001b[0m                            Traceback (most recent call last)",
      "Cell \u001b[1;32mIn[16], line 24\u001b[0m\n\u001b[0;32m     21\u001b[0m     angle \u001b[38;5;241m=\u001b[39m state[\u001b[38;5;241m2\u001b[39m]\n\u001b[0;32m     23\u001b[0m \u001b[38;5;66;03m#Motor speed\u001b[39;00m\n\u001b[1;32m---> 24\u001b[0m speed_left, speed_right, prox \u001b[38;5;241m=\u001b[39m \u001b[38;5;28;01mawait\u001b[39;00m thymio\u001b[38;5;241m.\u001b[39mget_sensors()\n\u001b[0;32m     25\u001b[0m speed \u001b[38;5;241m=\u001b[39m [speed_left,speed_right]\n\u001b[0;32m     26\u001b[0m \u001b[38;5;28mprint\u001b[39m(speed)\n",
      "File \u001b[1;32m~\\Mobile\\Control.py:42\u001b[0m, in \u001b[0;36mControl.get_sensors\u001b[1;34m(self)\u001b[0m\n\u001b[0;32m     37\u001b[0m \u001b[38;5;28;01mawait\u001b[39;00m \u001b[38;5;28mself\u001b[39m\u001b[38;5;241m.\u001b[39mnode\u001b[38;5;241m.\u001b[39mwait_for_variables({\u001b[38;5;124m\"\u001b[39m\u001b[38;5;124mprox.horizontal\u001b[39m\u001b[38;5;124m\"\u001b[39m,\u001b[38;5;124m\"\u001b[39m\u001b[38;5;124mmotor.left.speed\u001b[39m\u001b[38;5;124m\"\u001b[39m,\u001b[38;5;124m\"\u001b[39m\u001b[38;5;124mmotor.right.speed\u001b[39m\u001b[38;5;124m\"\u001b[39m})\n\u001b[0;32m     38\u001b[0m \u001b[38;5;28;01mfor\u001b[39;00m i \u001b[38;5;129;01min\u001b[39;00m \u001b[38;5;28mrange\u001b[39m(\u001b[38;5;241m10\u001b[39m):\n\u001b[0;32m     39\u001b[0m     \u001b[38;5;66;03m#print(list(self.node.v.prox.horizontal))\u001b[39;00m\n\u001b[0;32m     40\u001b[0m     \u001b[38;5;66;03m#print(self.node.v.motor.left.speed)\u001b[39;00m\n\u001b[0;32m     41\u001b[0m     \u001b[38;5;66;03m#print(self.node.v.motor.right.speed)\u001b[39;00m\n\u001b[1;32m---> 42\u001b[0m     \u001b[38;5;28;01mawait\u001b[39;00m \u001b[38;5;28mself\u001b[39m\u001b[38;5;241m.\u001b[39mclient\u001b[38;5;241m.\u001b[39msleep(\u001b[38;5;241m0.2\u001b[39m)\n\u001b[0;32m     43\u001b[0m ls \u001b[38;5;241m=\u001b[39m \u001b[38;5;28mself\u001b[39m\u001b[38;5;241m.\u001b[39mnode\u001b[38;5;241m.\u001b[39mv\u001b[38;5;241m.\u001b[39mmotor\u001b[38;5;241m.\u001b[39mleft\u001b[38;5;241m.\u001b[39mspeed\n\u001b[0;32m     44\u001b[0m rs \u001b[38;5;241m=\u001b[39m \u001b[38;5;28mself\u001b[39m\u001b[38;5;241m.\u001b[39mnode\u001b[38;5;241m.\u001b[39mv\u001b[38;5;241m.\u001b[39mmotor\u001b[38;5;241m.\u001b[39mright\u001b[38;5;241m.\u001b[39mspeed\n",
      "File \u001b[1;32m~\\anaconda3\\Lib\\site-packages\\tdmclient\\clientasync.py:73\u001b[0m, in \u001b[0;36mClientAsync.sleep\u001b[1;34m(self, duration, wake)\u001b[0m\n\u001b[0;32m     71\u001b[0m \u001b[38;5;28;01mif\u001b[39;00m wake \u001b[38;5;129;01mis\u001b[39;00m \u001b[38;5;129;01mnot\u001b[39;00m \u001b[38;5;28;01mNone\u001b[39;00m \u001b[38;5;129;01mand\u001b[39;00m wake():\n\u001b[0;32m     72\u001b[0m     \u001b[38;5;28;01mbreak\u001b[39;00m\n\u001b[1;32m---> 73\u001b[0m \u001b[38;5;28;01myield\u001b[39;00m\n",
      "\u001b[1;31mCancelledError\u001b[0m: "
     ]
    }
   ],
   "source": [
    "from Control import Control\n",
    "#Main \n",
    "index = 0\n",
    "size_path = len(path[0])\n",
    "old_pos = start\n",
    "target = tuple(path[:,1])\n",
    "epsilon = 0.5\n",
    "Kidnapping_threshold = 4\n",
    "arrived = False\n",
    "while size_path > index: \n",
    "    \n",
    "    #Checking the state of camera\n",
    "    camera_on = True\n",
    "    flag, _, state = get_thymio(cap)\n",
    "    if not flag:\n",
    "        print(\"Problem with vision_nav function\")\n",
    "        camera_on = False\n",
    "    else:\n",
    "        pos = tuple([state[0]-0.5,state[1]])\n",
    "        print(\"The position given by vision is:\",pos)\n",
    "        angle = state[2]\n",
    "\n",
    "    #Motor speed\n",
    "    speed_left, speed_right, prox = await thymio.get_sensors()\n",
    "    speed = [speed_left,speed_right]\n",
    "    print(speed)\n",
    "    print(camera_on)\n",
    "    \n",
    "    if camera_on == False:\n",
    "        #Kalmann\n",
    "        tracker = KF.KalmanFilter()\n",
    "        speed_xy,orientation_est = tracker.compute_x_y_speed(speed[0],speed[1])\n",
    "        print(pos)\n",
    "        x_est = [pos[0],pos[1],speed_xy[0],speed_xy[1]]\n",
    "        P_est = np.eye(4)*1000\n",
    "        pos,speed,angle,x_est,P_est = tracker.predict(speed[0],speed[1],orientation_est,x_est,P_est)\n",
    "        \n",
    "    #calculer la norm old pos vs pos --> si superieur a treshold kidnapping\n",
    "    distance = math.sqrt((pos[0] - old_pos[0])**2 + (pos[1] - old_pos[1])**2)\n",
    "    if distance > Kidnapping_threshold:\n",
    "        #Need to initialize kidnapping_threshold with a value\n",
    "        #recompute vision to get the new position-> this new position is the new start point, the goal remain unchanged\n",
    "        flag, _, state = get_thymio(cap)\n",
    "        if flag:\n",
    "            pos = tuple([state[0]-0.5,state[1]])\n",
    "            angle = state[2]\n",
    "        else:\n",
    "            print(\"Problem with thymio_get function\")\n",
    "        path, visitedNodes = Global.A_Star(start, goal, h, coords, obs_grid, movement_type=\"4N\")\n",
    "        path = np.array(path).reshape(-1, 2).transpose()\n",
    "        visitedNodes = np.array(visitedNodes).reshape(-1, 2).transpose()\n",
    "        index = 0 #The index need to be re-initialized since we have a new path\n",
    "\n",
    "    #Check if robot has arrived at target, and update it if yes\n",
    "    # for idx in range(index,len(path)):\n",
    "    #     print(\"closeness:\", np.linalg.norm(path[:,idx]-np.array(pos)))\n",
    "    #     print(\"y difference:\",np.abs(path[:,idx][1]-np.array(pos[1])))\n",
    "    #     print(\"indice:\", idx)\n",
    "    #     if ((np.abs(path[:,idx][1]-np.array(pos[1]) <= epsilon)) and (angle > 80) and (angle < 100)):\n",
    "    #         index = idx+1\n",
    "    #         target = tuple(path[:,idx+1])\n",
    "    #         arrived = False\n",
    "    #         print(\"new target is : \", target)\n",
    "    #         print(\"index is: \", index)\n",
    "    if arrived == True:\n",
    "        index = index+1\n",
    "        target = tuple(path[:,index+1])\n",
    "        arrived = False\n",
    "        print(\"new target is:\", target)\n",
    "        print(\"index is:\", index)\n",
    "    #start leds and sound\n",
    "    \n",
    "    \n",
    "\n",
    "    #Function obstacle check to implement\n",
    "    obstacle_detected = False\n",
    "    #Need to add obstacle avoidance\n",
    " \n",
    "    #Motion control\n",
    "    #Take into account the KF variable here no ?\n",
    "    print(\"position in main:\", pos)\n",
    "    print(\"target in main\", target)\n",
    "    print(\"angle in main\", angle)\n",
    "    arrived = await(thymio.following_path(pos,angle,target))\n",
    "    \n",
    "    if arrived == True:\n",
    "        index = index+1\n",
    "        target = tuple(path[:,index+1])\n",
    "        arrived = False\n",
    "        print(\"new target is:\", target)\n",
    "        print(\"index is:\", index)\n",
    "    #start leds and sound\n",
    "    \n",
    "        \n",
    "    print(\"test\")        "
   ]
  },
  {
   "cell_type": "code",
   "execution_count": 1,
   "id": "a7b4c203-4c8c-4aa1-9951-33edbf34b40f",
   "metadata": {},
   "outputs": [
    {
     "ename": "SyntaxError",
     "evalue": "invalid syntax (2034417413.py, line 2)",
     "output_type": "error",
     "traceback": [
      "\u001b[1;36m  Cell \u001b[1;32mIn[1], line 2\u001b[1;36m\u001b[0m\n\u001b[1;33m    cap.release()pos\u001b[0m\n\u001b[1;37m                 ^\u001b[0m\n\u001b[1;31mSyntaxError\u001b[0m\u001b[1;31m:\u001b[0m invalid syntax\n"
     ]
    }
   ],
   "source": [
    "# release the camera resource\n",
    "cap.release()pos"
   ]
  },
  {
   "cell_type": "code",
   "execution_count": null,
   "id": "3c6fa431-e513-442f-bb07-ceca999622da",
   "metadata": {},
   "outputs": [],
   "source": []
  }
 ],
 "metadata": {
  "kernelspec": {
   "display_name": "Python 3 (ipykernel)",
   "language": "python",
   "name": "python3"
  },
  "language_info": {
   "codemirror_mode": {
    "name": "ipython",
    "version": 3
   },
   "file_extension": ".py",
   "mimetype": "text/x-python",
   "name": "python",
   "nbconvert_exporter": "python",
   "pygments_lexer": "ipython3",
   "version": "3.11.4"
  }
 },
 "nbformat": 4,
 "nbformat_minor": 5
}
