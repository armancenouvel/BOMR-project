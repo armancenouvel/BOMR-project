{
 "cells": [
  {
   "cell_type": "code",
   "execution_count": 2,
   "id": "c39962b6-3b28-4d4c-9fc3-38d10d4a050a",
   "metadata": {
    "tags": []
   },
   "outputs": [],
   "source": [
    "import asyncio\n",
    "import time\n",
    "import math\n",
    "import numpy as np\n",
    "from cv2 import VideoCapture\n",
    "import matplotlib.pyplot as plt\n",
    "from matplotlib import colors\n",
    "import Global\n",
    "# from vision.module import detection, utils, constants\n",
    "# from vision.functions import vision_init, get_thymio\n",
    "from vision.functions import vision_init, get_thymio\n",
    "# import vision_nav\n",
    "import KF\n",
    "from Control import Control\n",
    "import cv2"
   ]
  },
  {
   "cell_type": "code",
   "execution_count": 3,
   "id": "1a1c8ec1-eb42-49aa-902a-ce428066dc03",
   "metadata": {
    "tags": []
   },
   "outputs": [
    {
     "data": {
      "text/plain": [
       "Node c840c803-5e0f-416f-ae5d-a54e0adeec35"
      ]
     },
     "execution_count": 3,
     "metadata": {},
     "output_type": "execute_result"
    }
   ],
   "source": [
    "\n",
    "#Connecting to the tymio\n",
    "from tdmclient import ClientAsync, aw\n",
    "client = ClientAsync()\n",
    "node = aw(client.wait_for_node())\n",
    "aw(node.lock())"
   ]
  },
  {
   "cell_type": "code",
   "execution_count": 4,
   "id": "5506b1cc-4b2e-400f-a6d7-ce5585279996",
   "metadata": {
    "tags": []
   },
   "outputs": [
    {
     "name": "stdout",
     "output_type": "stream",
     "text": [
      "init\n"
     ]
    }
   ],
   "source": [
    "thymio = Control(node,client)"
   ]
  },
  {
   "cell_type": "code",
   "execution_count": 59,
   "id": "d05a78e4-e899-4305-94b4-b6c0aa0b4b3a",
   "metadata": {
    "tags": []
   },
   "outputs": [],
   "source": [
    "aw(node.unlock())"
   ]
  },
  {
   "cell_type": "code",
   "execution_count": 5,
   "id": "2d38f566-1e62-4720-a27e-988130c0eb43",
   "metadata": {
    "tags": []
   },
   "outputs": [
    {
     "name": "stdout",
     "output_type": "stream",
     "text": [
      "Going forward\n"
     ]
    }
   ],
   "source": [
    "thymio.set_motors(0,\"forward\")"
   ]
  },
  {
   "cell_type": "code",
   "execution_count": 6,
   "id": "189addf5-97d4-4ed6-ba6c-86c139486251",
   "metadata": {
    "tags": []
   },
   "outputs": [
    {
     "data": {
      "text/plain": [
       "46"
      ]
     },
     "metadata": {},
     "output_type": "display_data"
    },
    {
     "data": {
      "text/plain": [
       "49"
      ]
     },
     "metadata": {},
     "output_type": "display_data"
    },
    {
     "data": {
      "text/plain": [
       "[0, 0, 2745, 3374, 3487, 0, 0]"
      ]
     },
     "metadata": {},
     "output_type": "display_data"
    }
   ],
   "source": [
    "ls,rs,prox = await thymio.get_sensors()\n",
    "display(ls)\n",
    "display(rs)\n",
    "display(prox)"
   ]
  },
  {
   "cell_type": "code",
   "execution_count": 7,
   "id": "26133c98-5706-4f25-ba1a-9cbfc6b26af5",
   "metadata": {
    "tags": []
   },
   "outputs": [],
   "source": [
    "v = {\n",
    "    \"motor.left.target\": [0],\n",
    "    \"motor.right.target\": [0],\n",
    "}\n",
    "aw(node.set_variables(v))"
   ]
  },
  {
   "cell_type": "code",
   "execution_count": 3,
   "id": "1dbe05f4-c505-4395-8fe7-ff14aa041c80",
   "metadata": {
    "tags": []
   },
   "outputs": [],
   "source": [
    "# lock the camera resource\n",
    "cap = VideoCapture(0)"
   ]
  },
  {
   "cell_type": "code",
   "execution_count": 4,
   "id": "9834e707-aa65-4fb8-8c55-2762ffbd12cb",
   "metadata": {},
   "outputs": [],
   "source": [
    "\n",
    "#ret, img = cap.read()\n",
    "#cv2.imshow(\"test\", img)\n",
    "#cv2.waitKey(0)\n",
    "#cv2.destroyAllWindows()\n",
    "#  allocate variables\n",
    "grid = None\n",
    "obs = []\n",
    "obs_grid = None\n",
    "targets = []\n",
    "goal = []\n",
    "\n",
    "# import constants\n",
    "from vision.constants import grid_height_cells"
   ]
  },
  {
   "cell_type": "code",
   "execution_count": null,
   "id": "eebe2c77-682a-47b2-8f27-13327801c588",
   "metadata": {},
   "outputs": [],
   "source": []
  },
  {
   "cell_type": "code",
   "execution_count": 11,
   "id": "5fe6a0c3",
   "metadata": {},
   "outputs": [
    {
     "name": "stdout",
     "output_type": "stream",
     "text": [
      "------------------\n",
      "grid_extraction: markers found\n",
      "IDS:\n",
      "[[4]\n",
      " [5]\n",
      " [1]\n",
      " [3]\n",
      " [2]]\n",
      "------------------\n"
     ]
    }
   ],
   "source": [
    "#  vision initialization\n",
    "\n",
    "flag, grid, obs, obs_grid, targets, goal = vision_init(cap)\n",
    "if not flag:\n",
    "    assert 0\n",
    "\n",
    "# if you get to this point, the vision is initialized and you have acquired information about the environment"
   ]
  },
  {
   "cell_type": "code",
   "execution_count": 5,
   "id": "eb3794a8-caf0-4419-85de-0bd723936615",
   "metadata": {
    "tags": []
   },
   "outputs": [
    {
     "data": {
      "text/plain": [
       "array([[0., 0., 0., 0., 0., 0., 0.],\n",
       "       [0., 0., 0., 0., 0., 0., 0.],\n",
       "       [0., 0., 0., 1., 0., 0., 1.],\n",
       "       [0., 0., 1., 0., 0., 0., 0.],\n",
       "       [0., 0., 0., 0., 0., 0., 0.],\n",
       "       [0., 1., 0., 0., 0., 0., 0.],\n",
       "       [0., 0., 0., 0., 0., 0., 0.]])"
      ]
     },
     "metadata": {},
     "output_type": "display_data"
    }
   ],
   "source": [
    "display(obs_grid)"
   ]
  },
  {
   "cell_type": "code",
   "execution_count": 7,
   "id": "8a22bb54-2c2a-4652-9476-a78e4ed04bf5",
   "metadata": {
    "tags": []
   },
   "outputs": [
    {
     "data": {
      "text/plain": [
       "[[0, 2]]"
      ]
     },
     "metadata": {},
     "output_type": "display_data"
    }
   ],
   "source": [
    "display(targets)"
   ]
  },
  {
   "cell_type": "code",
   "execution_count": 11,
   "id": "2d4ab540-d87f-4a6c-b89d-57d011a690ec",
   "metadata": {
    "tags": []
   },
   "outputs": [
    {
     "data": {
      "text/plain": [
       "[[5, 3]]"
      ]
     },
     "metadata": {},
     "output_type": "display_data"
    }
   ],
   "source": [
    "display(goal)"
   ]
  },
  {
   "cell_type": "code",
   "execution_count": 4,
   "id": "536059e0",
   "metadata": {},
   "outputs": [
    {
     "name": "stdout",
     "output_type": "stream",
     "text": [
      "Requirement already satisfied: tk-tools in c:\\users\\antoi\\anaconda3\\lib\\site-packages (0.16.0)\n",
      "Requirement already satisfied: engineering-notation>=0.5 in c:\\users\\antoi\\anaconda3\\lib\\site-packages (from tk-tools) (0.9.0)\n"
     ]
    }
   ],
   "source": [
    "!python -m pip install tk-tools"
   ]
  },
  {
   "cell_type": "code",
   "execution_count": 6,
   "id": "49c64278-3c20-48c4-9cf6-ed3c377ae388",
   "metadata": {
    "tags": []
   },
   "outputs": [],
   "source": [
    "def create_empty_plot(max_val):\n",
    "    \"\"\"\n",
    "    Helper function to create a figure of the desired dimensions & grid\n",
    "    \n",
    "    :param max_val: dimension of the map along the x and y dimensions\n",
    "    :return: the fig and ax objects.\n",
    "    \"\"\"\n",
    "    fig, ax = plt.subplots(figsize=(7,7))\n",
    "    \n",
    "    major_ticks = np.arange(0, max_val+1, 5)\n",
    "    minor_ticks = np.arange(0, max_val+1, 1)\n",
    "    ax.set_xticks(major_ticks)\n",
    "    ax.set_xticks(minor_ticks, minor=True)\n",
    "    ax.set_yticks(major_ticks)\n",
    "    ax.set_yticks(minor_ticks, minor=True)\n",
    "    ax.grid(which='minor', alpha=0.2)\n",
    "    ax.grid(which='major', alpha=0.5)\n",
    "    ax.set_ylim([-1,max_val])\n",
    "    ax.set_xlim([-1,max_val])\n",
    "    ax.grid(True)\n",
    "    \n",
    "    return fig, ax"
   ]
  },
  {
   "cell_type": "code",
   "execution_count": 12,
   "id": "7174dd88",
   "metadata": {
    "tags": []
   },
   "outputs": [
    {
     "data": {
      "text/plain": [
       "Text(0.5, 1.0, 'Map : free cells in white, occupied cells in red')"
      ]
     },
     "execution_count": 12,
     "metadata": {},
     "output_type": "execute_result"
    },
    {
     "data": {
      "image/png": "[encoded data removed]",
      "text/plain": [
       "<Figure size 700x700 with 1 Axes>"
      ]
     },
     "metadata": {},
     "output_type": "display_data"
    }
   ],
   "source": [
    "max_val = grid_height_cells  # here, we suppose a squared environment\n",
    "fig, ax = create_empty_plot(max_val)\n",
    "\n",
    "# set plot origin to top left \n",
    "plt.xlim(0, max_val)\n",
    "plt.ylim(max_val, 0)\n",
    "\n",
    "# Displaying the map\n",
    "cmap = colors.ListedColormap(['white', 'black'])\n",
    "ax.imshow(obs_grid, cmap=cmap)\n",
    "plt.title(\"Map : free cells in white, occupied cells in red\")"
   ]
  },
  {
   "cell_type": "code",
   "execution_count": null,
   "id": "b75ad25a-84cf-4dea-b6a6-3bb2dba82306",
   "metadata": {
    "tags": []
   },
   "outputs": [],
   "source": [
    "'''\n",
    "# OLD VERSION\n",
    "#Creating the grid\n",
    "max_val = 12 # Size of the map\n",
    "\n",
    "fig, ax = create_empty_plot(max_val)\n",
    "\n",
    "# Creating the occupancy grid\n",
    "np.random.seed(5) # To guarantee the same outcome on all computers\n",
    "data = np.random.rand(max_val, max_val)*20 # Create a grid of 50 x 50 random values, a matrix 50*50\n",
    "cmap = colors.ListedColormap(['white', 'black']) # Select the colors with which to display obstacles and free cells\n",
    "# Converting the random values into occupied and free cells\n",
    "limit = 17\n",
    "occupancy_grid = data.copy()\n",
    "occupancy_grid[data>limit] = 1\n",
    "occupancy_grid[data<=limit] = 0\n",
    "\n",
    "# Displaying the map\n",
    "ax.imshow(occupancy_grid.transpose(), cmap=cmap)\n",
    "plt.title(\"Map : free cells in white, occupied cells in red\");\n",
    "'''"
   ]
  },
  {
   "cell_type": "code",
   "execution_count": 13,
   "id": "ddc10623-ca4c-4d7a-a581-386b29788840",
   "metadata": {
    "tags": []
   },
   "outputs": [
    {
     "name": "stdout",
     "output_type": "stream",
     "text": [
      "------------------\n",
      "thymio_recognition: markers found\n",
      "IDS:\n",
      "[[4]\n",
      " [5]\n",
      " [2]\n",
      " [1]\n",
      " [3]]\n",
      "------------------\n"
     ]
    },
    {
     "data": {
      "text/plain": [
       "[3.413, 1.761]"
      ]
     },
     "metadata": {},
     "output_type": "display_data"
    }
   ],
   "source": [
    "# List of all coordinates in the grid\n",
    "#max_val is the size of the map\n",
    "#x: 2D array where each element x[i, j] represents the x coordinate at position (i, j) in the grid.\n",
    "#Donc x[1,n] rendra toujours 1 car la coord x d'un point en (1,n) est 1\n",
    "#y: 2D array where each element y[i, j] represents the y coordinate at position (i, j) in the grid.\n",
    "x,y = np.mgrid[0:max_val:1, 0:max_val:1]\n",
    "pos = np.empty(x.shape + (2,))\n",
    "pos[:, :, 0] = x; pos[:, :, 1] = y\n",
    "pos = np.reshape(pos, (x.shape[0]*x.shape[1], 2))\n",
    "#Coords countains all the possible coordinates of the grid from (0,0) to (max_val-1,max_val-1)\n",
    "coords = list([(int(x[0]), int(x[1])) for x in pos])\n",
    "\n",
    "#Defining the start  point and end goal for now on\n",
    "flag, _,state = get_thymio(cap)\n",
    "if flag:\n",
    "    start = [state[0],state[1]]\n",
    "    angle = state[2]\n",
    "else:\n",
    "    print(\"Problem with thymio_get function\")\n",
    "    \n",
    "display(start)"
   ]
  },
  {
   "cell_type": "code",
   "execution_count": 14,
   "id": "f5c8c2dc-23b4-4473-be7f-6bf956e972af",
   "metadata": {
    "tags": []
   },
   "outputs": [
    {
     "ename": "ValueError",
     "evalue": "operands could not be broadcast together with shapes (49,2) (2,2) ",
     "output_type": "error",
     "traceback": [
      "\u001b[1;31m---------------------------------------------------------------------------\u001b[0m",
      "\u001b[1;31mValueError\u001b[0m                                Traceback (most recent call last)",
      "Cell \u001b[1;32mIn[14], line 3\u001b[0m\n\u001b[0;32m      1\u001b[0m \u001b[38;5;66;03m#Defining the distance to the goal ignoring the obstacles, here using the Euclidian distance with the function np.linalg.norm\u001b[39;00m\n\u001b[0;32m      2\u001b[0m \u001b[38;5;66;03m# Define the heuristic, here = distance to goal ignoring obstacles\u001b[39;00m\n\u001b[1;32m----> 3\u001b[0m h \u001b[38;5;241m=\u001b[39m np\u001b[38;5;241m.\u001b[39mlinalg\u001b[38;5;241m.\u001b[39mnorm(\u001b[43mpos\u001b[49m\u001b[43m \u001b[49m\u001b[38;5;241;43m-\u001b[39;49m\u001b[43m \u001b[49m\u001b[43mgoal\u001b[49m, axis\u001b[38;5;241m=\u001b[39m\u001b[38;5;241m-\u001b[39m\u001b[38;5;241m1\u001b[39m)\n\u001b[0;32m      4\u001b[0m h \u001b[38;5;241m=\u001b[39m \u001b[38;5;28mdict\u001b[39m(\u001b[38;5;28mzip\u001b[39m(coords, h))\n",
      "\u001b[1;31mValueError\u001b[0m: operands could not be broadcast together with shapes (49,2) (2,2) "
     ]
    }
   ],
   "source": [
    "#Defining the distance to the goal ignoring the obstacles, here using the Euclidian distance with the function np.linalg.norm\n",
    "# Define the heuristic, here = distance to goal ignoring obstacles\n",
    "h = np.linalg.norm(pos - goal, axis=-1)\n",
    "h = dict(zip(coords, h))"
   ]
  },
  {
   "cell_type": "code",
   "execution_count": 14,
   "id": "ae537bf4-1a36-48a7-969f-2ea68de3628e",
   "metadata": {
    "tags": []
   },
   "outputs": [
    {
     "data": {
      "text/plain": [
       "<matplotlib.collections.PathCollection at 0x1e01dd40050>"
      ]
     },
     "execution_count": 14,
     "metadata": {},
     "output_type": "execute_result"
    },
    {
     "data": {
      "image/png": "[encoded data removed]",
      "text/plain": [
       "<Figure size 700x700 with 1 Axes>"
      ]
     },
     "metadata": {},
     "output_type": "display_data"
    }
   ],
   "source": [
    "# Run the A* algorithm\n",
    "path, visitedNodes = Global.A_Star(start, goal, h, coords, occupancy_grid, movement_type=\"4N\") # changed occupancy_grid by grid\n",
    "path = np.array(path).reshape(-1, 2).transpose()\n",
    "visitedNodes = np.array(visitedNodes).reshape(-1, 2).transpose()\n",
    "\n",
    "# Displaying the map\n",
    "fig_astar, ax_astar = create_empty_plot(max_val)\n",
    "ax_astar.imshow(occupancy_grid.transpose(), cmap=cmap) # changed occupancy_grid by grid\n",
    "\n",
    "# Plot the best path found and the list of visited nodes\n",
    "ax_astar.scatter(visitedNodes[0], visitedNodes[1], marker=\"o\", color = 'grey')\n",
    "ax_astar.plot(path[0], path[1], marker=\"o\", color = 'red')\n",
    "ax_astar.scatter(start[0], start[1], marker=\"o\", color = 'green', s=200)\n",
    "ax_astar.scatter(goal[0], goal[1], marker=\"o\", color = 'purple', s=200)"
   ]
  },
  {
   "cell_type": "code",
   "execution_count": 15,
   "id": "a9f89833-7362-4847-9f4b-6614a7c72206",
   "metadata": {
    "tags": []
   },
   "outputs": [
    {
     "ename": "NameError",
     "evalue": "name 'cap' is not defined",
     "output_type": "error",
     "traceback": [
      "\u001b[1;31m---------------------------------------------------------------------------\u001b[0m",
      "\u001b[1;31mNameError\u001b[0m                                 Traceback (most recent call last)",
      "Cell \u001b[1;32mIn[15], line 17\u001b[0m\n\u001b[0;32m     10\u001b[0m camera_on \u001b[38;5;241m=\u001b[39m \u001b[38;5;28;01mTrue\u001b[39;00m\n\u001b[0;32m     11\u001b[0m \u001b[38;5;66;03m# try:\u001b[39;00m\n\u001b[0;32m     12\u001b[0m \u001b[38;5;66;03m#     _, _, state = get_thymio(cap)\u001b[39;00m\n\u001b[0;32m     13\u001b[0m \u001b[38;5;66;03m# except Exception as e:\u001b[39;00m\n\u001b[0;32m     14\u001b[0m \u001b[38;5;66;03m#     print(\"Problem with vision_nav function\",e)\u001b[39;00m\n\u001b[0;32m     15\u001b[0m \u001b[38;5;66;03m#     camera_on = False\u001b[39;00m\n\u001b[1;32m---> 17\u001b[0m flag, _, state \u001b[38;5;241m=\u001b[39m get_thymio(\u001b[43mcap\u001b[49m)\n\u001b[0;32m     18\u001b[0m \u001b[38;5;28;01mif\u001b[39;00m \u001b[38;5;129;01mnot\u001b[39;00m flag:\n\u001b[0;32m     19\u001b[0m     \u001b[38;5;28mprint\u001b[39m(\u001b[38;5;124m\"\u001b[39m\u001b[38;5;124mProblem with vision_nav function\u001b[39m\u001b[38;5;124m\"\u001b[39m)\n",
      "\u001b[1;31mNameError\u001b[0m: name 'cap' is not defined"
     ]
    }
   ],
   "source": [
    "#Main \n",
    "index = 0\n",
    "size_path = len(path[0])\n",
    "old_pos = start\n",
    "target = path[:][0]\n",
    "epsilon = 0.2\n",
    "Kidnapping_threshold = 4\n",
    "while size_path > index: \n",
    "    #Checking the state of camera\n",
    "    camera_on = True\n",
    "    # try:\n",
    "    #     _, _, state = get_thymio(cap)\n",
    "    # except Exception as e:\n",
    "    #     print(\"Problem with vision_nav function\",e)\n",
    "    #     camera_on = False\n",
    "\n",
    "    flag, _, state = get_thymio(cap)\n",
    "    if not flag:\n",
    "        print(\"Problem with vision_nav function\")\n",
    "        camera_on = False\n",
    "    else:\n",
    "        pos = [state[0],state[1]]\n",
    "        angle = state[2]\n",
    "\n",
    "    #Motor speed\n",
    "    #tymio = Control_tymio(node,client)\n",
    "    #print(tymio)\n",
    "    #tymio.sync()\n",
    "    speed_left, speed_right, prox = thymio.get_sensors()\n",
    "    speed = [speed_left,speed_right]\n",
    "    print(speed)\n",
    "    if ~camera_on:\n",
    "        #Kalmann\n",
    "        tracker = KF.KalmanFilter()\n",
    "        speed_xy,orientation_est = tracker.compute_x_y_speed(speed[0],speed[1])\n",
    "        x_est = [pos[-1][0],pos[-1][1],speed_xy[0],speed_xy[1]]\n",
    "        P_est = np.eye(4)*1000\n",
    "        pos,speed,angle,x_est,P_est = tracker.predict(speed[0],speed[1],orientation_est,x_est,P_est)\n",
    "        \n",
    "        #calculer la norm old pos vs pos --> si superieur a treshold kidnapping\n",
    "        distance = math.sqrt((pos[0] - old_pos[0])**2 + (pos[1] - old_pos[1])**2)\n",
    "        if distance > Kidnapping_threshold:\n",
    "            #Need to initialize kidnapping_threshold with a value\n",
    "            #recompute vision to get the new position-> this new position is the new start point, the goal remain unchanged\n",
    "            flag, _, state = get_thymio(cap)\n",
    "            if flag:\n",
    "                pos = [state[0],state[1]]\n",
    "                angle = state[2]\n",
    "            else:\n",
    "                print(\"Problem with thymio_get function\")\n",
    "            path, visitedNodes = Global.A_Star(start, goal, h, coords, grid, movement_type=\"4N\")\n",
    "            path = np.array(path).reshape(-1, 2).transpose()\n",
    "            visitedNodes = np.array(visitedNodes).reshape(-1, 2).transpose()\n",
    "            index = 0 #The index need to be re-initialized since we have a new path\n",
    "            \n",
    "        #Check if robot has arrived at target, and update it if yes\n",
    "        for idx in range(len(path)):\n",
    "            if(np.norm(pos[0] == path[idx][0] and pos[1] == path[idx][1]) < epsilon):\n",
    "                index = idx\n",
    "                target = path[:][idx+1]\n",
    "            \n",
    "        #start leds and sound\n",
    "        \n",
    "        #Function obstacle check to implement\n",
    "        obstacle_detected = False\n",
    "        #Need to add obstacle avoidance\n",
    "    \n",
    "        #Motion control\n",
    "        #Take into account the KF variable here no ?\n",
    "        thymio.following_path(pos,angle,target)\n",
    "        \n",
    "            "
   ]
  },
  {
   "cell_type": "code",
   "execution_count": 1,
   "id": "a7b4c203-4c8c-4aa1-9951-33edbf34b40f",
   "metadata": {},
   "outputs": [
    {
     "ename": "NameError",
     "evalue": "name 'cap' is not defined",
     "output_type": "error",
     "traceback": [
      "\u001b[1;31m---------------------------------------------------------------------------\u001b[0m",
      "\u001b[1;31mNameError\u001b[0m                                 Traceback (most recent call last)",
      "Cell \u001b[1;32mIn[1], line 2\u001b[0m\n\u001b[0;32m      1\u001b[0m \u001b[38;5;66;03m# release the camera resource\u001b[39;00m\n\u001b[1;32m----> 2\u001b[0m \u001b[43mcap\u001b[49m\u001b[38;5;241m.\u001b[39mrelease()\n",
      "\u001b[1;31mNameError\u001b[0m: name 'cap' is not defined"
     ]
    }
   ],
   "source": [
    "# release the camera resource\n",
    "cap.release()"
   ]
  }
 ],
 "metadata": {
  "kernelspec": {
   "display_name": "Python 3 (ipykernel)",
   "language": "python",
   "name": "python3"
  },
  "language_info": {
   "codemirror_mode": {
    "name": "ipython",
    "version": 3
   },
   "file_extension": ".py",
   "mimetype": "text/x-python",
   "name": "python",
   "nbconvert_exporter": "python",
   "pygments_lexer": "ipython3",
   "version": "3.11.4"
  }
 },
 "nbformat": 4,
 "nbformat_minor": 5
}
